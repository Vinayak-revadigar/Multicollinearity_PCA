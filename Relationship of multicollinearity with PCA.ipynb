{
 "cells": [
  {
   "cell_type": "markdown",
   "id": "640a11f3",
   "metadata": {},
   "source": [
    "# \"Exploring the Variance Retained: A Comparative Analysis of PCA on Multicollinear and Non-Multicollinear Datasets\""
   ]
  },
  {
   "cell_type": "markdown",
   "id": "a29d2c43",
   "metadata": {},
   "source": [
    "# Problem Statement"
   ]
  },
  {
   "cell_type": "markdown",
   "id": "5e645492",
   "metadata": {},
   "source": [
    "#### Compare the variance retained by PCA when applied to two different datasets: a multicollinear dataset (where features have strong correlations) and a non-multicollinear dataset (where features are uncorrelated). By comparing the variance retained, we can assess the effectiveness of PCA in capturing the underlying information in these different types of datasets."
   ]
  },
  {
   "cell_type": "raw",
   "id": "96889506",
   "metadata": {},
   "source": [
    "1. We import the necessary libraries: `numpy` for numerical operations and `PCA` from `sklearn.decomposition` for performing Principal Component Analysis.\n",
    "\n",
    "2. We set a random seed using `np.random.seed(0)` to ensure reproducibility of results.\n",
    "\n",
    "3. We define the number of samples (`n_samples`) and the number of features (`n_features`) for our dataset.\n",
    "\n",
    "4. We create a correlation matrix using the `correlation_matrix` variable. This matrix represents the correlations between features in the dataset. In this case, we have a strong positive correlation between all pairs of features, with correlation coefficients ranging from 0.6 to 1.0.\n",
    "\n",
    "5. We generate a random dataset (`multicollinear_data`) based on the correlation matrix using the `np.random.multivariate_normal` function. This function generates samples from a multivariate normal distribution.\n",
    "\n",
    "6. We initialize the PCA object (`pca_multicollinear`) with `n_components=2`, indicating that we want to retain only 2 principal components.\n",
    "\n",
    "7. We fit the PCA model to the multicollinear dataset using `pca_multicollinear.fit(multicollinear_data)`. This step calculates the principal components and their corresponding explained variances.\n",
    "\n",
    "8. We calculate the variance retained by summing the explained variances of the selected principal components (`pca_multicollinear.explained_variance_ratio_`) and store it in the variable `variance_retained_multicollinear`.\n",
    "\n",
    "9. Next, we move on to generating a non-multicollinear dataset. We again set the random seed and define the number of samples and features.\n",
    "\n",
    "10. We generate a random dataset (`non_multicollinear_data`) using the `np.random.rand` function. This dataset contains uncorrelated features, as we generate random values between 0 and 1 for each feature.\n",
    "\n",
    "11. We initialize another PCA object (`pca_non_multicollinear`) with `n_components=2` for the non-multicollinear dataset.\n",
    "\n",
    "12. We fit the PCA model to the non-multicollinear dataset using `pca_non_multicollinear.fit(non_multicollinear_data)`.\n",
    "\n",
    "13. We calculate the variance retained for the non-multicollinear dataset by summing the explained variances of the selected principal components (`pca_non_multicollinear.explained_variance_ratio_`) and store it in the variable `variance_retained_non_multicollinear`.\n",
    "\n",
    "14. Finally, we create a dictionary (`variance_retained_dict`) to store the variance retained for each dataset, with keys representing the dataset names and values representing the variance retained.\n",
    "\n",
    "15. We print the variance retained for two components for each dataset using a loop and the `variance_retained_dict`. This provides a comparison of the variance retained between the multicollinear and non-multicollinear datasets.\n",
    "\n",
    "This code demonstrates the process of generating and analyzing two datasets: one with strong multicollinearity and another with uncorrelated features. The PCA is performed on both datasets, and the variance retained is calculated to compare the effectiveness of PCA in capturing the original information in the data."
   ]
  },
  {
   "cell_type": "code",
   "execution_count": 15,
   "id": "8970be8c",
   "metadata": {},
   "outputs": [],
   "source": [
    "import numpy as np\n",
    "from sklearn.decomposition import PCA\n",
    "\n",
    "# Multicollinear Dataset Generation\n",
    "np.random.seed(0)\n",
    "n_samples = 1000\n",
    "n_features = 5\n",
    "\n",
    "# Create a correlation matrix with strong positive correlation\n",
    "correlation_matrix = np.array([[1.0, 0.9, 0.8, 0.7, 0.6],\n",
    "                              [0.9, 1.0, 0.9, 0.8, 0.7],\n",
    "                              [0.8, 0.9, 1.0, 0.9, 0.8],\n",
    "                              [0.7, 0.8, 0.9, 1.0, 0.9],\n",
    "                              [0.6, 0.7, 0.8, 0.9, 1.0]])\n",
    "\n",
    "# Generate a random dataset based on the correlation matrix\n",
    "multicollinear_data = np.random.multivariate_normal(np.zeros(n_features), correlation_matrix, size=n_samples)\n",
    "\n"
   ]
  },
  {
   "cell_type": "code",
   "execution_count": 7,
   "id": "06724b34",
   "metadata": {},
   "outputs": [
    {
     "data": {
      "text/plain": [
       "0.9443182821172356"
      ]
     },
     "execution_count": 7,
     "metadata": {},
     "output_type": "execute_result"
    }
   ],
   "source": [
    "# Perform PCA on multicollinear dataset\n",
    "pca_multicollinear = PCA(n_components=2)\n",
    "pca_multicollinear.fit(multicollinear_data)\n",
    "variance_retained_multicollinear = np.sum(pca_multicollinear.explained_variance_ratio_)\n",
    "variance_retained_multicollinear\n"
   ]
  },
  {
   "cell_type": "code",
   "execution_count": 8,
   "id": "51a98e3e",
   "metadata": {},
   "outputs": [],
   "source": [
    "# Non-Multicollinear Dataset Generation\n",
    "np.random.seed(0)\n",
    "n_samples = 1000\n",
    "n_features = 5\n",
    "\n",
    "# Generate a random dataset with uncorrelated features\n",
    "non_multicollinear_data = np.random.rand(n_samples, n_features)\n"
   ]
  },
  {
   "cell_type": "code",
   "execution_count": 9,
   "id": "7e6ae263",
   "metadata": {},
   "outputs": [
    {
     "data": {
      "text/plain": [
       "0.42442064038015404"
      ]
     },
     "execution_count": 9,
     "metadata": {},
     "output_type": "execute_result"
    }
   ],
   "source": [
    "# Perform PCA on non-multicollinear dataset\n",
    "pca_non_multicollinear = PCA(n_components=2)\n",
    "pca_non_multicollinear.fit(non_multicollinear_data)\n",
    "variance_retained_non_multicollinear = np.sum(pca_non_multicollinear.explained_variance_ratio_)\n",
    "variance_retained_non_multicollinear"
   ]
  },
  {
   "cell_type": "code",
   "execution_count": 10,
   "id": "dce1e990",
   "metadata": {},
   "outputs": [],
   "source": [
    "# Create a dictionary to store the variance retained for each dataset\n",
    "variance_retained_dict = {\n",
    "    \"Multicollinear Dataset\": variance_retained_multicollinear,\n",
    "    \"Non-Multicollinear Dataset\": variance_retained_non_multicollinear\n",
    "}"
   ]
  },
  {
   "cell_type": "code",
   "execution_count": 11,
   "id": "90942057",
   "metadata": {},
   "outputs": [
    {
     "name": "stdout",
     "output_type": "stream",
     "text": [
      "Multicollinear Dataset: Variance Retained for 2 Components = 94.43%\n",
      "Non-Multicollinear Dataset: Variance Retained for 2 Components = 42.44%\n"
     ]
    }
   ],
   "source": [
    "# Print the variance retained for two components for each dataset\n",
    "for dataset, variance_retained in variance_retained_dict.items():\n",
    "    print(f\"{dataset}: Variance Retained for 2 Components = {variance_retained * 100:.2f}%\")\n"
   ]
  },
  {
   "cell_type": "code",
   "execution_count": 12,
   "id": "f051ae30",
   "metadata": {},
   "outputs": [],
   "source": [
    "import matplotlib.pyplot as plt"
   ]
  },
  {
   "cell_type": "code",
   "execution_count": 13,
   "id": "fec6f12a",
   "metadata": {},
   "outputs": [
    {
     "data": {
      "image/png": "[encoded data removed]",
      "text/plain": [
       "<Figure size 800x600 with 1 Axes>"
      ]
     },
     "metadata": {},
     "output_type": "display_data"
    }
   ],
   "source": [
    "# Plot the results\n",
    "plt.figure(figsize=(8, 6))\n",
    "plt.bar(variance_retained_dict.keys(), variance_retained_dict.values())\n",
    "plt.title(\"Variance Retained for PCA\")\n",
    "plt.xlabel(\"Dataset\")\n",
    "plt.ylabel(\"Variance Retained\")\n",
    "plt.ylim(0, 1)\n",
    "plt.show()"
   ]
  },
  {
   "cell_type": "markdown",
   "id": "d8da0843",
   "metadata": {},
   "source": [
    "### Conclusion"
   ]
  },
  {
   "cell_type": "markdown",
   "id": "517e9aa6",
   "metadata": {},
   "source": [
    "Based on the results obtained, the multicollinear dataset retains a higher percentage of variance (94.43%) when reducing the dimensionality to two components using PCA. On the other hand, the non-multicollinear dataset retains a lower percentage of variance (42.44%) for the same number of components.\n",
    "\n",
    "This suggests that the multicollinear dataset, which has strong positive correlations between its features, has more redundancy and shared information. PCA effectively captures and represents this shared information in a lower-dimensional space, resulting in a higher variance retention.\n",
    "\n",
    "In contrast, the non-multicollinear dataset consists of uncorrelated features, indicating that there is less redundancy and shared information among the variables. Therefore, applying PCA to the non-multicollinear dataset may not be as effective in capturing meaningful patterns or reducing the dimensionality without losing a significant amount of variance.\n",
    "\n",
    "The graphical representation, as shown in the bar plot, visually highlights the significant difference in variance retained between the two datasets. It provides a clear comparison, reinforcing the conclusion that PCA is more suitable for datasets with multicollinearity, where it can effectively reduce dimensionality while retaining a higher amount of variance.\n",
    "\n",
    "Overall, these findings emphasize the importance of considering the nature of the dataset, particularly the presence or absence of multicollinearity, when deciding to apply PCA as a dimensionality reduction technique."
   ]
  },
  {
   "cell_type": "code",
   "execution_count": null,
   "id": "7b89c838",
   "metadata": {},
   "outputs": [],
   "source": []
  }
 ],
 "metadata": {
  "kernelspec": {
   "display_name": "Python 3 (ipykernel)",
   "language": "python",
   "name": "python3"
  },
  "language_info": {
   "codemirror_mode": {
    "name": "ipython",
    "version": 3
   },
   "file_extension": ".py",
   "mimetype": "text/x-python",
   "name": "python",
   "nbconvert_exporter": "python",
   "pygments_lexer": "ipython3",
   "version": "3.9.13"
  }
 },
 "nbformat": 4,
 "nbformat_minor": 5
}
